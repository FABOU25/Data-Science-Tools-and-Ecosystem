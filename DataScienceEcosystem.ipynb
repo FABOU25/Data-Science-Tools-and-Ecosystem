{
 "cells": [
  {
   "cell_type": "markdown",
   "id": "863df369",
   "metadata": {},
   "source": [
    "# Data Science Tools and Ecosystem"
   ]
  },
  {
   "cell_type": "markdown",
   "id": "d6d62ec5",
   "metadata": {},
   "source": [
    "In this notebook, Data Science Tools and Ecosystem are summarized."
   ]
  },
  {
   "cell_type": "markdown",
   "id": "c6cfda25",
   "metadata": {},
   "source": [
    "### The objectif of this notebook are:\n",
    "\n",
    "    1-List of some populare languages used by Data Scientists\n",
    "    2-Common used libraries used by Data Scientists\n",
    "    3-Development environment open source tools used in Data Sciens\n",
    "    4-Arithmetic expression in jupyther notebook"
   ]
  },
  {
   "cell_type": "markdown",
   "id": "fc24f2a2",
   "metadata": {},
   "source": [
    "### Some of the popular languages that Data Scientists use are:\n",
    "    1-Python\n",
    "    2-R\n",
    "    3-SQL\n",
    "    4-C++\n",
    "    5-JAVA\n",
    "    6-JULIA\n",
    "    7-Scala"
   ]
  },
  {
   "cell_type": "markdown",
   "id": "9ff65ef1",
   "metadata": {},
   "source": [
    "### Some of the commonly used libraries used by Data Scientists include in pyhton are:/\n",
    "    1-Pandas\n",
    "    2-NumPy\n",
    "    3-SciPy\n",
    "    4-Matplotlib"
   ]
  },
  {
   "cell_type": "markdown",
   "id": "23ef68e3",
   "metadata": {},
   "source": [
    "### The  three development environment open source tools used in data science.\n",
    "\n",
    "\n",
    "|Data Science Tools|\n",
    "-----------------------------\n",
    "|JUPYTER LAB|\n",
    "|APACHE SPARK|\n",
    "|RSTUDIO|"
   ]
  },
  {
   "cell_type": "markdown",
   "id": "03ecd82d",
   "metadata": {},
   "source": [
    "### Below are a few examples of evaluating arithmetic expressions in Python\n",
    "\n",
    "a- 1+2 \n",
    "\n",
    "b- 100-15\n",
    "\n",
    "c- 6*4\n"
   ]
  },
  {
   "cell_type": "markdown",
   "id": "ccd08039",
   "metadata": {},
   "source": [
    "#### code to multiply and add numbers"
   ]
  },
  {
   "cell_type": "code",
   "execution_count": 6,
   "id": "1529e4fe",
   "metadata": {},
   "outputs": [
    {
     "data": {
      "text/plain": [
       "17"
      ]
     },
     "execution_count": 6,
     "metadata": {},
     "output_type": "execute_result"
    }
   ],
   "source": [
    "#This a simple arithmetic expression to mutiply then add integers\n",
    "(3*4)+5"
   ]
  },
  {
   "cell_type": "markdown",
   "id": "ef8b85b2",
   "metadata": {},
   "source": [
    "#### code cell to convert minutes to hours"
   ]
  },
  {
   "cell_type": "code",
   "execution_count": 9,
   "id": "9e7a76df",
   "metadata": {},
   "outputs": [
    {
     "name": "stdout",
     "output_type": "stream",
     "text": [
      "number of hours is: 3.0\n"
     ]
    }
   ],
   "source": [
    "#This will convert 200 minutes to hours by diving by 60\n",
    "a=200 # a contain number of minutes\n",
    "b=round(a/60,0)\n",
    "print ('number of hours is:',b)"
   ]
  },
  {
   "cell_type": "code",
   "execution_count": null,
   "id": "e306915b",
   "metadata": {},
   "outputs": [],
   "source": []
  }
 ],
 "metadata": {
  "kernelspec": {
   "display_name": "Python 3 (ipykernel)",
   "language": "python",
   "name": "python3"
  },
  "language_info": {
   "codemirror_mode": {
    "name": "ipython",
    "version": 3
   },
   "file_extension": ".py",
   "mimetype": "text/x-python",
   "name": "python",
   "nbconvert_exporter": "python",
   "pygments_lexer": "ipython3",
   "version": "3.11.4"
  }
 },
 "nbformat": 4,
 "nbformat_minor": 5
}
